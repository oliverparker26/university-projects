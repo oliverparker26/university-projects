{
 "cells": [
  {
   "cell_type": "markdown",
   "id": "9df15146",
   "metadata": {},
   "source": [
    "# Рахматуллин Амир"
   ]
  },
  {
   "cell_type": "code",
   "execution_count": null,
   "id": "83e278fe",
   "metadata": {},
   "outputs": [],
   "source": [
    "import numpy as np\n",
    "import pandas as pd\n",
    "from IPython.display import display\n",
    "import plotly.graph_objs as go\n",
    "import plotly.express as px"
   ]
  },
  {
   "cell_type": "code",
   "execution_count": null,
   "id": "3c8bf076",
   "metadata": {},
   "outputs": [],
   "source": [
    "# https://openflights.org/data.html\n",
    "\n",
    "url_airport = 'https://raw.githubusercontent.com/jpatokal/openflights/master/data/airports.dat'\n",
    "url_routers = 'https://raw.githubusercontent.com/jpatokal/openflights/master/data/routes.dat'\n",
    "\n",
    "df_raw_airport = pd.read_csv(url_airport, index_col=0)\n",
    "display(df_raw_airport.head(5))\n",
    "df_raw_routers = pd.read_csv(url_routers)\n",
    "display(df_raw_routers.head(10))"
   ]
  },
  {
   "cell_type": "code",
   "execution_count": null,
   "id": "45508b06",
   "metadata": {},
   "outputs": [],
   "source": [
    "columns_airport = ['Airport ID', 'Name', 'City',\n",
    "                   'Country', 'IATA', 'ICAO', 'Latitude', 'Longitude', 'Altitude', 'Timezone',\n",
    "                   'DST', 'Tz database time zone', 'Type', 'Source']\n",
    "\n",
    "columns_routers = ['Airline', 'Airline ID', 'Source airport', 'Source airport ID', \n",
    "                   'Destination airport', 'Destination airport ID', 'Codeshare', 'Stops', 'Equipment']\n",
    "\n",
    "df_raw_airport = pd.read_csv(url_airport, names = columns_airport, index_col=0)\n",
    "display(df_raw_airport.head(3))\n",
    "df_raw_routers = pd.read_csv(url_routers, names = columns_routers)\n",
    "display(df_raw_routers.head(10))\n"
   ]
  },
  {
   "cell_type": "markdown",
   "id": "e868a212",
   "metadata": {},
   "source": [
    "# Задание 1\n",
    "\n",
    "Добавить столбец <code>Continent</code> с данными, которые будут содержать название континента."
   ]
  },
  {
   "cell_type": "code",
   "execution_count": null,
   "id": "d96bcb29",
   "metadata": {},
   "outputs": [],
   "source": [
    "#pip install a-world-of-countries\n",
    "\n",
    "import awoc\n",
    "\n",
    "my_world = awoc.AWOC()\n",
    "\n",
    "def country_to_continent(name):\n",
    "    try:\n",
    "        continent = my_world.get_country_continent_name(name)\n",
    "    except NameError:\n",
    "        continent = np.nan\n",
    "    return continent\n",
    "\n",
    "\n",
    "dict_country_error = {\n",
    "    \"Cote d'Ivoire\": 'Ivory Coast',\n",
    "    'Congo (Kinshasa)': 'Democratic Republic of the Congo',\n",
    "    'Congo (Brazzaville)':'Republic of the Congo', \n",
    "    'Burma':'Myanmar',\n",
    "    'Cocos (Keeling) Islands': 'Cocos Islands'\n",
    "}\n",
    "\n",
    "df_raw_airport['Country'] = df_raw_airport['Country'].replace(dict_country_error)\n",
    "df_raw_airport['Continent'] = df_raw_airport['Country'].map(country_to_continent)\n",
    "df_raw_airport[df_raw_airport['Continent'].isna()]\n",
    "\n",
    "dict_teritor_error = {\n",
    "    'West Bank': 'Asia', \n",
    "    'Midway Islands': 'Oceania', \n",
    "    'French Guiana': 'South America', \n",
    "    'Martinique': 'North America',\n",
    "    'Guadeloupe': 'North America', \n",
    "    'Virgin Islands': 'North America', \n",
    "    'Norfolk Island': 'Oceania', \n",
    "    'Johnston Atoll': 'Oceania',\n",
    "    'Svalbard': 'Europe', \n",
    "    'Wake Island': 'Oceania'}\n",
    "\n",
    "df_raw_airport['Continent'] = df_raw_airport['Continent'].fillna(df_raw_airport['Country'].map(dict_teritor_error))\n",
    "\n",
    "df_raw_airport.head(7)\n",
    "\n"
   ]
  },
  {
   "cell_type": "markdown",
   "id": "cbdcfa19",
   "metadata": {},
   "source": [
    "# Задание 2\n",
    "\n",
    "Из списка континентов случайно выбрать континент и срезать таблицу по названию континента и аэропорту имеющему код IATA (имеется в виду - для выбранного континента только аэропорты с кодом IATA). Каждый раз при выполнении кода континент случайно выбирается."
   ]
  },
  {
   "cell_type": "code",
   "execution_count": null,
   "id": "bbbd7c0c",
   "metadata": {
    "scrolled": false
   },
   "outputs": [],
   "source": [
    "random_continent = np.random.choice(['Europe', 'Asia', 'North America', 'South America', 'Africa', 'Oceania', 'Antarctica'])\n",
    "\n",
    "print('We randomly chose', random_continent)\n",
    "\n",
    "\n",
    "df = df_raw_airport[df_raw_airport[\"Continent\"] == random_continent]\n",
    "\n",
    "\n",
    "df = (df.loc[df['IATA'] != '\\\\N'])\n",
    "\n",
    "\n",
    "display(df.head(10))\n"
   ]
  },
  {
   "cell_type": "markdown",
   "id": "12f3f047",
   "metadata": {},
   "source": [
    "# Задание 3\n",
    "\n",
    "На основе таблицы связи аэропортов создать таблицу с кодом аэропорта, количеством взлетов и количеством посадок."
   ]
  },
  {
   "cell_type": "code",
   "execution_count": null,
   "id": "c7f16982",
   "metadata": {},
   "outputs": [],
   "source": [
    "takeoffs = df_raw_routers.groupby(\"Source airport\")['Source airport ID'].count()\n",
    "\n",
    "\n",
    "landings = df_raw_routers.groupby(\"Destination airport\")['Destination airport ID'].count()\n",
    "\n",
    "\n",
    "df_table = pd.concat([takeoffs, landings], axis = 1, sort = True, keys = ['Takeoffs', 'Landings']).fillna(0)\n",
    "df_table"
   ]
  },
  {
   "cell_type": "markdown",
   "id": "ac16eddf",
   "metadata": {},
   "source": [
    "# Задание 4\n",
    "\n",
    "Используя в качестве ключа код аэропорта слить данные для отобранного континента и собрать таблицу - страна, название аэропорта, количество взлет/посадок (сумма взлетов и посадок)"
   ]
  },
  {
   "cell_type": "code",
   "execution_count": null,
   "id": "17367ae6",
   "metadata": {},
   "outputs": [],
   "source": [
    "if random_continent == 'Antarctica':\n",
    "    print('No data of Antarctica in df_raw_routers')\n",
    "else:\n",
    "    wwww = pd.merge(df, df_table, left_on = 'IATA', right_index = True, how='inner')\n",
    "\n",
    "    wwww['Sum'] = wwww['Takeoffs'] + wwww['Landings']\n",
    "\n",
    "    table4 = wwww.pivot_table(index = ['Country','Name'], values = 'Sum')\n",
    "\n",
    "    display(table4)\n"
   ]
  },
  {
   "cell_type": "markdown",
   "id": "c7fed1c4",
   "metadata": {},
   "source": [
    "# Задание 5\n",
    "\n",
    "1. Найти коды аэропортов для которых нет взлет/посадок в таблице аэропортов.\n",
    "2. Найти коды аэропортов для которых нет названий в таблице связей аэропортов."
   ]
  },
  {
   "cell_type": "code",
   "execution_count": null,
   "id": "74af05d8",
   "metadata": {},
   "outputs": [],
   "source": [
    "un_routers = df_raw_routers[\"Source airport\"].unique()\n",
    "\n",
    "mask_1 = df_raw_airport[\"IATA\"].isin(un_routers)\n",
    "\n",
    "\n",
    "display(pd.DataFrame(df_raw_airport[\"IATA\"][~mask_1].unique()).set_axis(['Airports not in routers table'], axis='columns'))\n",
    "\n",
    "\n",
    "un_airports = df_raw_airport[\"IATA\"].unique()\n",
    "\n",
    "mask_2 = df_raw_routers['Source airport'].isin(un_airports)\n",
    "\n",
    "pd.DataFrame(df_raw_routers[\"Source airport\"][~mask_2].unique()).set_axis(['Airports not in airports table'], axis='columns')\n"
   ]
  },
  {
   "cell_type": "markdown",
   "id": "94052bbe",
   "metadata": {},
   "source": [
    "# Задание 6\n",
    "\n",
    "Для таблицы в задании 4, для трех крупнейших аэропортов для каждой страны, собрать ряд - первый индекс: название страны, второй индекс: название аэропорта, значение: количество взлет посадок. Первый индекс упорядочен по названию страны (по алфавиту), а назание аэропорта по количеству взлет посадок от большего к меньшему."
   ]
  },
  {
   "cell_type": "code",
   "execution_count": null,
   "id": "aa26a1d3",
   "metadata": {},
   "outputs": [],
   "source": [
    "if random_continent == 'Antarctica':\n",
    "    print('No data of Antarctica in df_raw_routers')\n",
    "else:\n",
    "    ttt = table4.reset_index('Country')\n",
    "\n",
    "    for_every_country = pd.DataFrame(ttt.groupby('Country')['Sum'].nlargest(3))\n",
    "\n",
    "    display(for_every_country)"
   ]
  },
  {
   "cell_type": "markdown",
   "id": "57d36cd8",
   "metadata": {},
   "source": [
    "# Задание 7\n",
    "\n",
    "Для каждого континента отобрать не более 3 стран с наибольшим количеством взлет посадок и нанести их на географическую карту. "
   ]
  },
  {
   "cell_type": "code",
   "execution_count": null,
   "id": "055535cf",
   "metadata": {},
   "outputs": [],
   "source": [
    "if random_continent == 'Antarctica':\n",
    "    print('No data of Antarctica in df_raw_routers')\n",
    "else: \n",
    "    three_countries = pd.DataFrame(table4.groupby(\"Country\")[\"Sum\"].sum().nlargest(3))\n",
    "\n",
    "    temp = three_countries.reset_index()\n",
    "\n",
    "\n",
    "    list = []\n",
    "\n",
    "    for i in range(0,3):\n",
    "        list.append(my_world.get_country_ISO3(temp['Country'][i]))\n",
    "\n",
    "    from plotly.offline import download_plotlyjs, init_notebook_mode, iplot, plot\n",
    "  \n",
    "\n",
    "    init_notebook_mode(connected = True)\n",
    "\n",
    "    data = dict(type = 'choropleth',\n",
    "  \n",
    "            locations = list,\n",
    "            \n",
    "            locationmode = 'ISO-3',\n",
    "              \n",
    "            colorscale = 'Portland',\n",
    "            \n",
    "            text = [temp['Country'][0], temp['Country'][1], temp['Country'][2]],\n",
    "            \n",
    "            z = [temp['Sum'][0], temp['Sum'][1], temp['Sum'][2]],\n",
    "                \n",
    "            colorbar = {'title': 'Sum of takeoffs and landings'})\n",
    "\n",
    "    choromap = go.Figure(data = [data])\n",
    "\n",
    "    iplot(choromap)"
   ]
  },
  {
   "cell_type": "markdown",
   "id": "50f39571",
   "metadata": {},
   "source": [
    "# Задание 8\n",
    "\n",
    "Для каждого континента отобрать 5 наиболее крупных аэропортов с наибольшим количеством взлет посадок и нанести их на географическую карту. "
   ]
  },
  {
   "cell_type": "code",
   "execution_count": null,
   "id": "543b8591",
   "metadata": {},
   "outputs": [],
   "source": [
    "if random_continent == 'Antarctica':\n",
    "    print('No data of Antarctica in df_raw_routers')\n",
    "else:\n",
    "    biggest = wwww.pivot_table(values = 'Sum', index = ['IATA','Name', 'City']).nlargest(5, 'Sum')\n",
    "    \n",
    "    rr = biggest.reset_index()\n",
    "    \n",
    "\n",
    "    mas = []\n",
    "    for i in range(0,5):\n",
    "        mas.append(rr['Name'][i])\n",
    "    \n",
    "    ppp = df_raw_airport.loc[df_raw_airport['Name'].isin(mas)]\n",
    "    \n",
    "    ooo = pd.pivot_table(ppp, index = 'City', values = ['Latitude', 'Longitude'])\n",
    "    \n",
    "    xxx = pd.merge(rr, ooo, left_on = 'City', right_index = True)\n",
    "    display(xxx)\n",
    "    \n",
    "    fig = px.scatter_mapbox(xxx, lat=\"Latitude\", lon=\"Longitude\", hover_name=\"Name\", hover_data=[\"Sum\"],\n",
    "                        color_discrete_sequence=[\"red\"], zoom=2, height=500)\n",
    "\n",
    "    fig.update_layout(mapbox_style=\"carto-positron\")\n",
    "\n",
    "    fig.update_layout(margin={\"r\":0,\"t\":0,\"l\":0,\"b\":0})\n",
    "\n",
    "    fig.show()\n",
    "    \n",
    "    "
   ]
  },
  {
   "cell_type": "markdown",
   "id": "6b6e6a8f",
   "metadata": {},
   "source": [
    "# Задание 9\n",
    "\n",
    "Для наиболее крупных аэропортов (задание 8) построить маршрутную транспортную сеть и нанести их на географическую карту, линия должна отображать интенсивность взаимосвязи (прозрачность, толщина). "
   ]
  },
  {
   "cell_type": "code",
   "execution_count": null,
   "id": "43c6119b",
   "metadata": {},
   "outputs": [],
   "source": [
    "if random_continent == 'Antarctica':\n",
    "    print('No data of Antarctica in df_raw_routers')\n",
    "else:\n",
    "    gg = []\n",
    "    for i in range(0,5):\n",
    "        gg.append(ppp.reset_index()['IATA'][i])\n",
    "\n",
    "    table9 = df_raw_routers.loc[(df_raw_routers['Source airport'].isin(gg)) & (df_raw_routers['Destination airport'].isin(gg))][['Source airport', 'Destination airport']]\n",
    "\n",
    "    def get_pair(i, j):\n",
    "        return table9.loc[(table9['Source airport'] == i) & (table9['Destination airport'] == j)]\n",
    "\n",
    "    u = pd.DataFrame()\n",
    "\n",
    "    for i in gg:\n",
    "        for j in gg:\n",
    "            cc = get_pair(i,j)\n",
    "            u = pd.concat([u,cc], axis = 0)\n",
    "\n",
    "    lats_fly = []\n",
    "    lons_fly = []\n",
    "\n",
    "\n",
    "    for i in u['Source airport']:\n",
    "        lats_fly.append(xxx.set_index('IATA').loc[i][\"Latitude\"])\n",
    "\n",
    "    for i in u['Source airport']:\n",
    "        lons_fly.append(xxx.set_index('IATA').loc[i][\"Longitude\"])\n",
    "\n",
    "    fig = go.Figure(go.Scattermapbox(\n",
    "        mode = \"markers+lines\",\n",
    "        lon = lons_fly,\n",
    "        lat = lats_fly,\n",
    "        marker = {'size': 10}))\n",
    "\n",
    "\n",
    "    fig.update_layout(\n",
    "        margin ={'l':0,'t':0,'b':0,'r':0},\n",
    "        mapbox = {\n",
    "            'center': {'lon': 10, 'lat': 10},\n",
    "            'style': \"stamen-terrain\",\n",
    "            'zoom': 2})\n",
    "\n",
    "    fig.show()\n",
    "\n"
   ]
  },
  {
   "cell_type": "code",
   "execution_count": null,
   "id": "76512214",
   "metadata": {},
   "outputs": [],
   "source": []
  }
 ],
 "metadata": {
  "kernelspec": {
   "display_name": "Python 3 (ipykernel)",
   "language": "python",
   "name": "python3"
  },
  "language_info": {
   "codemirror_mode": {
    "name": "ipython",
    "version": 3
   },
   "file_extension": ".py",
   "mimetype": "text/x-python",
   "name": "python",
   "nbconvert_exporter": "python",
   "pygments_lexer": "ipython3",
   "version": "3.9.7"
  }
 },
 "nbformat": 4,
 "nbformat_minor": 5
}
